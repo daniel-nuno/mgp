{
 "cells": [
  {
   "cell_type": "markdown",
   "metadata": {},
   "source": [
    "# Tarea 1. Repaso de teoría de probabilidad\n",
    "\n",
    "<img style=\"float: right; margin: 0px 0px 15px 15px;\" src=\"https://storage.needpix.com/rsynced_images/bayesian-2889576_1280.png\" width=\"200px\" height=\"180px\" />\n",
    "\n",
    "Esta constituye la primera tarea del curso. Las tareas están pensadas para que afiances los conocimientos vistos en clase, repases la clase y debas darle una segunda leida. Incluso revisar otro material.\n",
    "\n",
    "Esta primera tarea contiene ejercicios para que repases conceptos básicos de teoría de probabilidad.\n",
    "\n",
    "Por favor, intenta ser lo más explícit@ posible, y en lo posible, apóyate de la escritura matemática con $\\LaTeX$.\n",
    "\n",
    "Recuerda además que ante cualquier duda, me puedes contactar al correo esjimenezro@iteso.mx.\n",
    "\n",
    "<p style=\"text-align:right;\"> Imagen recuperada de: https://storage.needpix.com/rsynced_images/bayesian-2889576_1280.png.</p>\n",
    "\n",
    "___"
   ]
  },
  {
   "cell_type": "markdown",
   "metadata": {},
   "source": [
    "## 1. \n",
    "\n",
    "Supongamos que una prueba para la COVID-19 tiene una precisión del 95%. Esto es, si el paciente está infectado, entonces el resultado de la prueba será positivo con probabilidad de 0.95, y si el paciente NO está infectado, el resutado de la prueba será negativo con probabilidad de 0.95.\n",
    "\n",
    "Además, supongamos que la probabilidad de estar infectado es de 0.017 (1.7%).\n",
    "\n",
    "Ahora, suponga que una persona tuvo un resultado de prueba positivo.\n",
    "\n",
    "1. ¿Cuál es la probabilidad de que esta persona esté infectada en efecto?\n",
    "\n",
    "2. ¿Cuál es la probabilidad de que no esté infectada?"
   ]
  },
  {
   "cell_type": "markdown",
   "metadata": {},
   "source": []
  },
  {
   "cell_type": "markdown",
   "metadata": {},
   "source": []
  },
  {
   "cell_type": "markdown",
   "metadata": {},
   "source": []
  },
  {
   "cell_type": "markdown",
   "metadata": {},
   "source": [
    "## 2. \n",
    "\n",
    "(Ejercicio 1.3 Pattern Recognition and Machine Learning, by Christopher M. Bishop.) \n",
    "\n",
    "Supongamos que tenemos tres cajas: $r$ (roja), $a$ (azul), y $v$ (verde). Los contenidos de las cajas son:\n",
    "\n",
    "- $r$: 3 manzanas, 4 naranjas, y 3 limas.\n",
    "- $a$: 1 manzanas, 1 naranjas, y 0 limas.\n",
    "- $v$: 3 manzanas, 3 naranjas, y 4 limas\n",
    "\n",
    "Si la caja se elige aleatoriamente con probabilidades $p(r) = 0.2$, $p(b) = 0.2$, $p(g) = 0.6$, y una fruta se selecciona de la caja elegida, con igual probabilidad de seleccionar cualquier elemento de la caja, \n",
    "\n",
    "1. ¿Cuál es la probabilida de seleccionar una manzana?\n",
    "2. Si observamos que la fruta seleccionada es una naranja, ¿Cuál es la probabilidad de que provenga de la caja verde?"
   ]
  },
  {
   "cell_type": "markdown",
   "metadata": {},
   "source": []
  },
  {
   "cell_type": "markdown",
   "metadata": {},
   "source": []
  },
  {
   "cell_type": "markdown",
   "metadata": {},
   "source": []
  },
  {
   "cell_type": "markdown",
   "metadata": {},
   "source": [
    "## 3.\n",
    "\n",
    "Leer la **sección 1.2.4. (The Gaussian distribution)** del libro Pattern Recognition and Machine Learning, by Christopher M. Bishop, las páginas 24 y 25 . A partir de ello:\n",
    "\n",
    "1. ¿Cuáles son los parámetros que caracterizan una distribución Gaussiana?, ¿Qué significan?\n",
    "\n",
    "2. Demuestre que la distribución Gaussiana es una distribución válida de probabilidad, es decir:\n",
    "\n",
    "   $$\n",
    "   \\int_{-\\infty}^{\\infty} \\mathcal{N}(x | \\mu, \\sigma^2) \\mathrm{d} x = 1.\n",
    "   $$\n",
    "   \n",
    "   Ayuda: Ver el ejercicio 1.7 Pattern Recognition and Machine Learning, by Christopher M. Bishop.\n",
    "   \n",
    "3. Demuestre que el parámetro de la media coincide con el valor esperado de la función:\n",
    "   \n",
    "   $$\n",
    "   \\mathbb{E}[x] = \\int_{-\\infty}^{\\infty} \\mathcal{N}(x | \\mu, \\sigma^2) x \\mathrm{d} x = \\mu.\n",
    "   $$\n",
    "   \n",
    "   Ayuda: Considere el cambio de variable $z = \\frac{x - \\mu}{\\sigma}$, y use [resultados de paridad de funciones en integrales](https://www.kristakingmath.com/blog/definite-integrals-for-even-and-odd-functions).\n",
    "   \n",
    "4. Define una V.A. normal usando `scipy.stats.norm`, con media y varianza que prefieras:\n",
    "   \n",
    "   ```python\n",
    "   x = stats.norm(loc=mu, scale=sigma)\n",
    "   ```\n",
    "   \n",
    "   Luego, muestrea 10, 100, 1000, y 10000 veces esta V.A. usando el método `rvs`:\n",
    "   \n",
    "   ```python\n",
    "   samples = x.rvs(n)\n",
    "   ```\n",
    "   \n",
    "   Finalmente, toma el promedio simple de cada uno de los conjuntos de muestras:\n",
    "   \n",
    "   ```python\n",
    "   samples.mean()\n",
    "   ```\n",
    "   \n",
    "   ¿Qué puedes concluir del efecto de la cantidad de las muestras sobre este promedio?"
   ]
  },
  {
   "cell_type": "markdown",
   "metadata": {},
   "source": []
  },
  {
   "cell_type": "markdown",
   "metadata": {},
   "source": []
  },
  {
   "cell_type": "markdown",
   "metadata": {},
   "source": []
  },
  {
   "cell_type": "markdown",
   "metadata": {},
   "source": [
    "# 4.\n",
    "\n",
    "Es común que haya cierta confusión en el significado del valor esperado. Un significado que le podemos dar a este valor, viene dado por la [ley de los grandes números](https://www.khanacademy.org/math/statistics-probability/random-variables-stats-library/expected-value-lib/v/law-of-large-numbers), que básicamente dice que:\n",
    "\n",
    "$$\n",
    "\\mathbb{E}_p[f] \\to \\frac{1}{N} \\sum_{i=1}^N f(x_i), \\text{ cuando } N \\to \\infty\n",
    "$$"
   ]
  },
  {
   "cell_type": "markdown",
   "metadata": {},
   "source": [
    "Para convencerte de esto, en este ejercicio simularás la tirada de un dado justo:\n",
    "\n",
    "1. Definimos la VA $X$ como el valor que muestra el dado cuando cae, es decir $\\mathrm{Val}(X) = \\{1, 2, 3, 4, 5, 6\\}$.\n",
    "2. Como el dado es justo $P(X=i)=\\frac{1}{|\\mathrm{Val}(X)|}=\\frac{1}{6}$ para todo $i=1,\\dots,6$.\n",
    "\n",
    "¿Cuál es el valor esperado $E[X]$?"
   ]
  },
  {
   "cell_type": "code",
   "execution_count": 1,
   "metadata": {},
   "outputs": [],
   "source": [
    "import numpy as np"
   ]
  },
  {
   "cell_type": "code",
   "execution_count": 3,
   "metadata": {},
   "outputs": [
    {
     "data": {
      "text/plain": [
       "3.5"
      ]
     },
     "execution_count": 3,
     "metadata": {},
     "output_type": "execute_result"
    }
   ],
   "source": [
    "# Calcular el valor esperado teórico de la VA X\n",
    "E = (1 / 6) * np.arange(1, 7).sum()\n",
    "E"
   ]
  },
  {
   "cell_type": "markdown",
   "metadata": {},
   "source": [
    "Ahora, viene el paso de simulación. \n",
    "\n",
    "1. Vas a simular por lo menos 1000 veces la tirada del dado, guardando a cada tirada el resultado obtenido.\n",
    "\n",
    "2. Vas a calcular el valor promedio de los resultados *a cada tirada*. Es decir, si los resultados en las primeras $n$ tiradas son $x_1,\\dots,x_n$, el valor promedio en la tirada $n$ es\n",
    "\n",
    "   $$\\bar{x}_n = \\frac{x_1+\\dots+x_n}{n}.$$\n",
    "\n",
    "3. Finalmente, vas a graficar los valores promedio obtenidos a cada tirada (en el eje $y$) vs. el número de tiradas (en el eje $x$). Incluir el valor esperado teórico en la gráfica. ¿Qué observas?\n",
    "\n",
    "*Ayuda: apoyarse del modulo random de numpy. Para su nivel, espero que no incluyan ni un solo ciclo en su código.*"
   ]
  },
  {
   "cell_type": "code",
   "execution_count": 43,
   "metadata": {},
   "outputs": [],
   "source": [
    "# Simular 1000 veces\n",
    "n_sim = 1000\n",
    "muestras = np.random.choice(a=np.arange(1, 7), \n",
    "                            size=n_sim,\n",
    "                            p=1 / 6 * np.ones(6))"
   ]
  },
  {
   "cell_type": "code",
   "execution_count": 45,
   "metadata": {},
   "outputs": [],
   "source": [
    "# Calcular el valor promedio de los resultados a cada tirada\n",
    "valor_promedio = muestras.cumsum() / np.arange(1, n_sim + 1)"
   ]
  },
  {
   "cell_type": "code",
   "execution_count": 47,
   "metadata": {},
   "outputs": [],
   "source": [
    "from matplotlib import pyplot as plt"
   ]
  },
  {
   "cell_type": "code",
   "execution_count": 48,
   "metadata": {},
   "outputs": [
    {
     "data": {
      "text/plain": [
       "(1, 6)"
      ]
     },
     "execution_count": 48,
     "metadata": {},
     "output_type": "execute_result"
    },
    {
     "data": {
      "image/png": "[encoded data removed]",
      "text/plain": [
       "<Figure size 432x288 with 1 Axes>"
      ]
     },
     "metadata": {
      "needs_background": "light"
     },
     "output_type": "display_data"
    }
   ],
   "source": [
    "plt.plot(valor_promedio)\n",
    "plt.axhline(E)\n",
    "plt.ylim([1, 6])"
   ]
  },
  {
   "cell_type": "markdown",
   "metadata": {},
   "source": [
    "<script>\n",
    "  $(document).ready(function(){\n",
    "    $('div.prompt').hide();\n",
    "    $('div.back-to-top').hide();\n",
    "    $('nav#menubar').hide();\n",
    "    $('.breadcrumb').hide();\n",
    "    $('.hidden-print').hide();\n",
    "  });\n",
    "</script>\n",
    "\n",
    "<footer id=\"attribution\" style=\"float:right; color:#808080; background:#fff;\">\n",
    "Created with Jupyter by Esteban Jiménez Rodríguez.\n",
    "</footer>"
   ]
  }
 ],
 "metadata": {
  "kernelspec": {
   "display_name": "Python 3",
   "language": "python",
   "name": "python3"
  },
  "language_info": {
   "codemirror_mode": {
    "name": "ipython",
    "version": 3
   },
   "file_extension": ".py",
   "mimetype": "text/x-python",
   "name": "python",
   "nbconvert_exporter": "python",
   "pygments_lexer": "ipython3",
   "version": "3.7.6"
  }
 },
 "nbformat": 4,
 "nbformat_minor": 4
}
