{
 "cells": [
  {
   "cell_type": "markdown",
   "metadata": {},
   "source": [
    "# Examen 1 - Modelos probabilísticos - Práctico.\n",
    "\n",
    "![](https://upload.wikimedia.org/wikipedia/commons/1/18/Bayes%27_Theorem_MMB_01.jpg)\n",
    "\n",
    "\n",
    "Referencias:\n",
    "- Paulo Cortez (Univ. Minho), Antonio Cerdeira, Fernando Almeida, Telmo Matos and Jose Reis (CVRVV) @ 2009\n",
    "- [Ames Housing dataset](https://www.amstat.org/publications/jse/v19n3/decock.pdf)\n",
    "___"
   ]
  },
  {
   "cell_type": "markdown",
   "metadata": {},
   "source": [
    "## 1. Selección de características según Lasso\n",
    "\n",
    "Supongamos que decidimos ajustar un modelo de regresión lineal a un conjunto de datos $(X, y)$, usando la regularización tipo Lasso ($L^1$).\n",
    "\n",
    "Un hecho ampliamente conocido es que al aumentar lo suficiente el coeficiente de regularización, algunos coeficientes se empiezan a hacer cero. Este hecho ha motivado el uso de este esquema para elegir características en el siguiente modo:\n",
    "\n",
    "1. Se entrena el modelo para varios valores de coeficientes de regularización.\n",
    "2. Se obtienen los coeficientes relativos a cada variable.\n",
    "3. Los coeficientes que primero se hacen cero, son indicativo de variables \"con menos poder predictivo\".\n",
    "\n",
    "A continuación un ejemplo con nuestros datos de precios de casas:"
   ]
  },
  {
   "cell_type": "code",
   "execution_count": 1,
   "metadata": {},
   "outputs": [],
   "source": [
    "# Importamos librerías\n",
    "from sklearn.preprocessing import StandardScaler\n",
    "from sklearn.linear_model import Lasso\n",
    "from sklearn.pipeline import Pipeline\n",
    "from matplotlib import pyplot as plt\n",
    "import pandas as pd\n",
    "import numpy as np"
   ]
  },
  {
   "cell_type": "code",
   "execution_count": 2,
   "metadata": {},
   "outputs": [
    {
     "data": {
      "text/html": [
       "<div>\n",
       "<style scoped>\n",
       "    .dataframe tbody tr th:only-of-type {\n",
       "        vertical-align: middle;\n",
       "    }\n",
       "\n",
       "    .dataframe tbody tr th {\n",
       "        vertical-align: top;\n",
       "    }\n",
       "\n",
       "    .dataframe thead th {\n",
       "        text-align: right;\n",
       "    }\n",
       "</style>\n",
       "<table border=\"1\" class=\"dataframe\">\n",
       "  <thead>\n",
       "    <tr style=\"text-align: right;\">\n",
       "      <th></th>\n",
       "      <th>size</th>\n",
       "      <th>n_bedrooms</th>\n",
       "      <th>price</th>\n",
       "    </tr>\n",
       "  </thead>\n",
       "  <tbody>\n",
       "    <tr>\n",
       "      <th>0</th>\n",
       "      <td>2104</td>\n",
       "      <td>3</td>\n",
       "      <td>399900</td>\n",
       "    </tr>\n",
       "    <tr>\n",
       "      <th>1</th>\n",
       "      <td>1600</td>\n",
       "      <td>3</td>\n",
       "      <td>329900</td>\n",
       "    </tr>\n",
       "    <tr>\n",
       "      <th>2</th>\n",
       "      <td>2400</td>\n",
       "      <td>3</td>\n",
       "      <td>369000</td>\n",
       "    </tr>\n",
       "    <tr>\n",
       "      <th>3</th>\n",
       "      <td>1416</td>\n",
       "      <td>2</td>\n",
       "      <td>232000</td>\n",
       "    </tr>\n",
       "    <tr>\n",
       "      <th>4</th>\n",
       "      <td>3000</td>\n",
       "      <td>4</td>\n",
       "      <td>539900</td>\n",
       "    </tr>\n",
       "  </tbody>\n",
       "</table>\n",
       "</div>"
      ],
      "text/plain": [
       "   size  n_bedrooms   price\n",
       "0  2104           3  399900\n",
       "1  1600           3  329900\n",
       "2  2400           3  369000\n",
       "3  1416           2  232000\n",
       "4  3000           4  539900"
      ]
     },
     "execution_count": 2,
     "metadata": {},
     "output_type": "execute_result"
    }
   ],
   "source": [
    "# Lectura de datos\n",
    "data = pd.read_csv(\"housing_prices.csv\")\n",
    "data.head()"
   ]
  },
  {
   "cell_type": "code",
   "execution_count": 5,
   "metadata": {},
   "outputs": [],
   "source": [
    "# Entrenamos modelos para diferentes valores de coeficiente de regularización, y obtenemos coeficientes\n",
    "reg_coefs = np.logspace(0, 5, 30)\n",
    "coefs_size = []\n",
    "coefs_nb = []\n",
    "for a in reg_coefs:\n",
    "    model = Pipeline([\n",
    "        (\"scaler\", StandardScaler()),\n",
    "        (\"reg\", Lasso(alpha=a))\n",
    "    ])\n",
    "    model.fit(X=data[[\"size\", \"n_bedrooms\"]], y=data[\"price\"])\n",
    "    coefs_size.append(np.abs(model.named_steps[\"reg\"].coef_[0]))\n",
    "    coefs_nb.append(np.abs(model.named_steps[\"reg\"].coef_[1]))"
   ]
  },
  {
   "cell_type": "code",
   "execution_count": 6,
   "metadata": {},
   "outputs": [
    {
     "data": {
      "text/plain": [
       "<matplotlib.legend.Legend at 0x7f5c54fbd790>"
      ]
     },
     "execution_count": 6,
     "metadata": {},
     "output_type": "execute_result"
    },
    {
     "data": {
      "image/png": "[encoded data removed]",
      "text/plain": [
       "<Figure size 432x288 with 1 Axes>"
      ]
     },
     "metadata": {
      "needs_background": "light"
     },
     "output_type": "display_data"
    }
   ],
   "source": [
    "# Graficamos\n",
    "plt.plot(reg_coefs, coefs_size, label=\"size\")\n",
    "plt.plot(reg_coefs, coefs_nb, label=\"n_bedrooms\")\n",
    "plt.xlabel(\"Coeficiente de regularización\")\n",
    "plt.ylabel(\"Magnitud de los coeficientes de la regresión lineal\")\n",
    "plt.legend()"
   ]
  },
  {
   "cell_type": "markdown",
   "metadata": {},
   "source": [
    "Observamos que el coeficiente de `n_bedrooms` se hace cero bastante rápido. Por tanto, si tuviéramos que elegir solo una característica para explicar los precios de las casas, deberíamos de elegir `size`."
   ]
  },
  {
   "cell_type": "markdown",
   "metadata": {},
   "source": [
    "Usando esta idea, la aplicaremos al [conjunto de datos de calidad de vinos](https://archive.ics.uci.edu/ml/datasets/wine+quality). Leer el archivo `winequality.names`.\n",
    "\n",
    "Variables explicativas (basadas en pruebas físico-químicas):\n",
    "\n",
    "1. fixed acidity\n",
    "2. volatile acidity\n",
    "3. citric acid\n",
    "4. residual sugar\n",
    "5. chlorides\n",
    "6. free sulfur dioxide\n",
    "7. total sulfur dioxide\n",
    "8. density\n",
    "9. pH\n",
    "10. sulphates\n",
    "11. alcohol\n",
    "\n",
    "Variable de respuesta:\n",
    "\n",
    "12. quality (score between 0 and 10)\n",
    "\n",
    "Alternativamente, pueden aplicar la idea sobre [este conjunto de datos de precios de bienes raices](https://www.kaggle.com/competitions/house-prices-advanced-regression-techniques/data).\n",
    "\n",
    "Determinar:\n",
    "\n",
    "1. El orden de poder predictivo de las variables, según Lasso.\n",
    "\n",
    "2. Si tuvieran que elegir solo 5 variables para el modelo, ¿Cuáles elegirían?\n",
    "\n",
    "3. Partir los datos en datos de entrenamiento y datos de prueba, y entrenar el modelo con las 5 variables seleccionadas sobre los datos de entrenamiento. ¿Cuál es el $R^2$ de su modelo?, ¿Cuál es el $R^2$ de un modelo usando todas las 11 variables explicativas? Concluir."
   ]
  },
  {
   "cell_type": "code",
   "execution_count": null,
   "metadata": {},
   "outputs": [],
   "source": []
  },
  {
   "cell_type": "code",
   "execution_count": null,
   "metadata": {},
   "outputs": [],
   "source": []
  },
  {
   "cell_type": "code",
   "execution_count": null,
   "metadata": {},
   "outputs": [],
   "source": []
  },
  {
   "cell_type": "code",
   "execution_count": null,
   "metadata": {},
   "outputs": [],
   "source": []
  },
  {
   "cell_type": "code",
   "execution_count": null,
   "metadata": {},
   "outputs": [],
   "source": []
  },
  {
   "cell_type": "code",
   "execution_count": null,
   "metadata": {},
   "outputs": [],
   "source": []
  },
  {
   "cell_type": "code",
   "execution_count": null,
   "metadata": {},
   "outputs": [],
   "source": []
  },
  {
   "cell_type": "code",
   "execution_count": null,
   "metadata": {},
   "outputs": [],
   "source": []
  },
  {
   "cell_type": "code",
   "execution_count": null,
   "metadata": {},
   "outputs": [],
   "source": []
  },
  {
   "cell_type": "code",
   "execution_count": null,
   "metadata": {},
   "outputs": [],
   "source": []
  },
  {
   "cell_type": "code",
   "execution_count": null,
   "metadata": {},
   "outputs": [],
   "source": []
  },
  {
   "cell_type": "markdown",
   "metadata": {},
   "source": [
    "## 2. Regresión lineal Bayesiana\n",
    "\n",
    "Usando los mismos datos de **calidad de vino o bienes raices**, aplicar la técnica de regresión lineal Bayesiana, como vimos en clase, para estimar la distribución posterior de los parámetros, suponiendo una previa normal:\n",
    "\n",
    "$$\n",
    "P(w) = \\mathcal{N}(w | 0, \\alpha^{-1} I),\n",
    "$$\n",
    "\n",
    "Recuerde que usted debe proponer los valores para $\\alpha$ y $\\beta$.\n",
    "\n",
    "Determine:\n",
    "\n",
    "1. La media de la distribución posterior. ¿Cuáles son los valores más probables de los parámetros?\n",
    "\n",
    "2. La matriz de covarianza de la distribución posterior.\n",
    "\n",
    "3. Simular 1000 valores conjuntos de los parámetros, y calcular la estimación de calidad con cada uno de ellos para los siguientes valores:\n",
    "\n",
    "| fixed acidity | volatile acidity | citric acid | residual sugar | chlorides | free sulfur dioxide | total sulfur dioxide | density | pH | sulphates | alcohol |\n",
    "| ----- | ----- | ----- | ----- | ----- | ----- | ----- | ----- | ----- | ----- | ----- |\n",
    "| 7.4   | 0.7   | 0     | 1.9   | 0.076 | 11    | 34    | 0.9978| 3.51  | 0.56 \t| 9.4   |\n",
    "\n",
    "   - ¿Cuál es la calidad máxima estimada?, ¿Cuál es el percentil 95%?\n",
    "   - ¿Cuál es la calidad mínima estimada?, ¿Cuál es el percentil 5%?"
   ]
  },
  {
   "cell_type": "code",
   "execution_count": null,
   "metadata": {},
   "outputs": [],
   "source": []
  },
  {
   "cell_type": "code",
   "execution_count": null,
   "metadata": {},
   "outputs": [],
   "source": []
  },
  {
   "cell_type": "code",
   "execution_count": null,
   "metadata": {},
   "outputs": [],
   "source": []
  },
  {
   "cell_type": "code",
   "execution_count": null,
   "metadata": {},
   "outputs": [],
   "source": []
  },
  {
   "cell_type": "code",
   "execution_count": null,
   "metadata": {},
   "outputs": [],
   "source": []
  },
  {
   "cell_type": "code",
   "execution_count": null,
   "metadata": {},
   "outputs": [],
   "source": []
  },
  {
   "cell_type": "code",
   "execution_count": null,
   "metadata": {},
   "outputs": [],
   "source": []
  },
  {
   "cell_type": "code",
   "execution_count": null,
   "metadata": {},
   "outputs": [],
   "source": []
  },
  {
   "cell_type": "code",
   "execution_count": null,
   "metadata": {},
   "outputs": [],
   "source": []
  },
  {
   "cell_type": "code",
   "execution_count": null,
   "metadata": {},
   "outputs": [],
   "source": []
  },
  {
   "cell_type": "code",
   "execution_count": null,
   "metadata": {},
   "outputs": [],
   "source": []
  },
  {
   "cell_type": "markdown",
   "metadata": {},
   "source": [
    "<script>\n",
    "  $(document).ready(function(){\n",
    "    $('div.prompt').hide();\n",
    "    $('div.back-to-top').hide();\n",
    "    $('nav#menubar').hide();\n",
    "    $('.breadcrumb').hide();\n",
    "    $('.hidden-print').hide();\n",
    "  });\n",
    "</script>\n",
    "\n",
    "<footer id=\"attribution\" style=\"float:right; color:#808080; background:#fff;\">\n",
    "Created with Jupyter by Esteban Jiménez Rodríguez.\n",
    "</footer>"
   ]
  }
 ],
 "metadata": {
  "kernelspec": {
   "display_name": "Python 3",
   "language": "python",
   "name": "python3"
  },
  "language_info": {
   "codemirror_mode": {
    "name": "ipython",
    "version": 3
   },
   "file_extension": ".py",
   "mimetype": "text/x-python",
   "name": "python",
   "nbconvert_exporter": "python",
   "pygments_lexer": "ipython3",
   "version": "3.7.6"
  }
 },
 "nbformat": 4,
 "nbformat_minor": 2
}
