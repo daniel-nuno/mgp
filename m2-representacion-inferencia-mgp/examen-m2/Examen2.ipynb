{
 "cells": [
  {
   "cell_type": "markdown",
   "metadata": {},
   "source": [
    "# Examen 2 - Modelos probabilísticos - Práctico.\n",
    "\n",
    "![](https://upload.wikimedia.org/wikipedia/commons/1/18/Bayes%27_Theorem_MMB_01.jpg)\n",
    "\n",
    "\n",
    "Referencias:\n",
    "- [UCI ML Repo - Adult dataset](https://archive.ics.uci.edu/ml/datasets/Adult)\n",
    "___"
   ]
  },
  {
   "cell_type": "markdown",
   "metadata": {},
   "source": [
    "## 1. Diseño de red Bayesiana\n",
    "\n",
    "En esta ocasión trabajaremos con el conjunto de datos de adultos provisto por el UCI ML Repository. En este conjunto de datos, la tarea es determinar si una persona gana más de $\\$50.000$ al año, o no. Para ello vienen reportadas las siguientes variables:\n",
    "\n",
    "1. Edad\n",
    "2. Tipo de trabajo\n",
    "3. Peso final: esta variable es un peso asignado por el Censo de EEUU, que determina indirectamente la importancia de la instancia dentro del dataset\n",
    "4. Educación\n",
    "5. Número educación: Encoding ordinal de la educación\n",
    "6. Estado civil\n",
    "7. Ocupación\n",
    "8. Relación\n",
    "9. Raza\n",
    "10. Sexo\n",
    "11. Ganancia de capital\n",
    "12. Pérdida de capital\n",
    "13. Horas a la semana\n",
    "14. País de nacimiento\n",
    "15. Ingresos anuales (categórica)\n",
    "\n",
    "En este punto, debes construir una estructura de red Bayesiana (grafo), **diferente a Naive Bayes** (dado que este será nuestro punto de comparación). Las dependencias directas entre variables (arcos) que añadas pueden ser:\n",
    "- Obtenidas a partir de un análisis exploratorio.\n",
    "- Por tu entendimiento del problema.\n",
    "- Por simple intuición.\n",
    "\n",
    "Para esto, es válido considerar solo subconjunto de las variables originales, o bien, todas ellas. Como recomendación, puedes quantizar las variables que consideres de tipo continuo."
   ]
  },
  {
   "cell_type": "code",
   "execution_count": null,
   "metadata": {},
   "outputs": [],
   "source": []
  },
  {
   "cell_type": "code",
   "execution_count": null,
   "metadata": {},
   "outputs": [],
   "source": []
  },
  {
   "cell_type": "code",
   "execution_count": null,
   "metadata": {},
   "outputs": [],
   "source": []
  },
  {
   "cell_type": "code",
   "execution_count": null,
   "metadata": {},
   "outputs": [],
   "source": []
  },
  {
   "cell_type": "code",
   "execution_count": null,
   "metadata": {},
   "outputs": [],
   "source": []
  },
  {
   "cell_type": "markdown",
   "metadata": {},
   "source": [
    "## 2. Estimación de parámetros\n",
    "\n",
    "Estimar los parámetros de la red Bayesiana de acuerdo a un conjunto de datos de entrenamiento. El criterio (máxima verosimilitud o MAP) para estimar los parámetros es de libre elección."
   ]
  },
  {
   "cell_type": "code",
   "execution_count": null,
   "metadata": {},
   "outputs": [],
   "source": []
  },
  {
   "cell_type": "code",
   "execution_count": null,
   "metadata": {},
   "outputs": [],
   "source": []
  },
  {
   "cell_type": "code",
   "execution_count": null,
   "metadata": {},
   "outputs": [],
   "source": []
  },
  {
   "cell_type": "code",
   "execution_count": null,
   "metadata": {},
   "outputs": [],
   "source": []
  },
  {
   "cell_type": "code",
   "execution_count": null,
   "metadata": {},
   "outputs": [],
   "source": []
  },
  {
   "cell_type": "markdown",
   "metadata": {},
   "source": [
    "## 3. Entrenar un modelo tipo Naive Bayes\n",
    "\n",
    "Sobre los mismos datos de entrenamiento del punto 2 y con el mismo cirterio (máxima verosimilitud o MAP), entrena un modelo tipo Naive Bayes."
   ]
  },
  {
   "cell_type": "code",
   "execution_count": null,
   "metadata": {},
   "outputs": [],
   "source": []
  },
  {
   "cell_type": "code",
   "execution_count": null,
   "metadata": {},
   "outputs": [],
   "source": []
  },
  {
   "cell_type": "code",
   "execution_count": null,
   "metadata": {},
   "outputs": [],
   "source": []
  },
  {
   "cell_type": "code",
   "execution_count": null,
   "metadata": {},
   "outputs": [],
   "source": []
  },
  {
   "cell_type": "code",
   "execution_count": null,
   "metadata": {},
   "outputs": [],
   "source": []
  },
  {
   "cell_type": "markdown",
   "metadata": {},
   "source": [
    "## 4. Evaluación y comparación\n",
    "\n",
    "Evalúa ambos modelos sobre el conjunto de datos de prueba.\n",
    "\n",
    "- ¿Qué modelo se comporta mejor? ¿Por qué?"
   ]
  },
  {
   "cell_type": "code",
   "execution_count": null,
   "metadata": {},
   "outputs": [],
   "source": []
  },
  {
   "cell_type": "code",
   "execution_count": null,
   "metadata": {},
   "outputs": [],
   "source": []
  },
  {
   "cell_type": "code",
   "execution_count": null,
   "metadata": {},
   "outputs": [],
   "source": []
  },
  {
   "cell_type": "code",
   "execution_count": null,
   "metadata": {},
   "outputs": [],
   "source": []
  },
  {
   "cell_type": "code",
   "execution_count": null,
   "metadata": {},
   "outputs": [],
   "source": []
  },
  {
   "cell_type": "markdown",
   "metadata": {},
   "source": [
    "<script>\n",
    "  $(document).ready(function(){\n",
    "    $('div.prompt').hide();\n",
    "    $('div.back-to-top').hide();\n",
    "    $('nav#menubar').hide();\n",
    "    $('.breadcrumb').hide();\n",
    "    $('.hidden-print').hide();\n",
    "  });\n",
    "</script>\n",
    "\n",
    "<footer id=\"attribution\" style=\"float:right; color:#808080; background:#fff;\">\n",
    "Created with Jupyter by Esteban Jiménez Rodríguez.\n",
    "</footer>"
   ]
  }
 ],
 "metadata": {
  "kernelspec": {
   "display_name": "Python 3",
   "language": "python",
   "name": "python3"
  },
  "language_info": {
   "codemirror_mode": {
    "name": "ipython",
    "version": 3
   },
   "file_extension": ".py",
   "mimetype": "text/x-python",
   "name": "python",
   "nbconvert_exporter": "python",
   "pygments_lexer": "ipython3",
   "version": "3.7.6"
  }
 },
 "nbformat": 4,
 "nbformat_minor": 2
}
