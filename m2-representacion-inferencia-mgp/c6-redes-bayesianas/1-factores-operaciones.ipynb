{
 "cells": [
  {
   "cell_type": "markdown",
   "metadata": {},
   "source": [
    "# Herramientas matemáticas: factores\n",
    "\n",
    "> Antes de comenzar nuestro estudio de modelos gráficos probabilísticos, comenzaremos por conocer y aprender a trabajar con un elemento matemático que nos va a resultar muy útil: **los factores**.\n",
    "\n",
    "> **Objetivos:**\n",
    "> - Entender el concepto de factor.\n",
    "> - Apropiar las operaciones que podemos desarrollar con los factores.\n",
    "> - Introducción al uso de la librería pgmpy\n",
    "\n",
    "> **Referencias:**\n",
    "> \n",
    "> - Probabilistic Graphical Models: Principles and Techniques, By Daphne Koller and Nir Friedman. Cap. 3.\n",
    "> - Mastering Probabilistic Graphical Models Using Python, By Ankur Ankan and Abinash Panda. Cap. 1.\n",
    "\n",
    "___"
   ]
  },
  {
   "cell_type": "markdown",
   "metadata": {},
   "source": [
    "## 1. Factores"
   ]
  },
  {
   "cell_type": "markdown",
   "metadata": {},
   "source": [
    "Un factor no es más que una función multivariable no negativa:\n",
    "\n",
    "> *Definición.* Un **factor** $\\phi(X_1, \\dots, X_k)$ es una función que toma un conjunto de VA $X_1, \\dots, X_k$ y devuelve un valor real no negativo:\n",
    "> \n",
    "> $$\\phi: \\mathrm{Val}(X_1, \\dots, X_k) \\to \\mathbb{R}_{\\geq 0}.$$\n",
    ">\n",
    "> El conjunto de variables $\\{X_1, \\dots, X_k\\}$ se le llama el **alcance** del factor $\\phi$, y se denota como $\\mathrm{alcance}[\\phi]=\\{X_1, \\dots, X_k\\}.$"
   ]
  },
  {
   "cell_type": "markdown",
   "metadata": {},
   "source": [
    "### ¿Y esto para qué?\n",
    "**Ejemplos:**\n",
    "\n",
    "- Una distribución conjunta: $\\phi_1(I, D, C) = P(I, D, C)$; $\\mathrm{alcance}[\\phi_1]=\\{I, D, C\\}$.\n",
    "\n",
    "- Una medida sin normalizar: $\\phi_2(I, D) = P(I, D, c^2)$; $\\mathrm{alcance}[\\phi_2]=\\{I, D\\}$.\n",
    "\n",
    "- Una distribución condicional: $\\phi_3(I, D, C) = P(I, D | C)$; $\\mathrm{alcance}[\\phi_3]=\\{I, D, C\\}$. Para cada valor de C tenemos una distribución sobre $I,D$.\n",
    "\n",
    "**Nota:** los factores no son necesariamente probabilidades."
   ]
  },
  {
   "cell_type": "markdown",
   "metadata": {},
   "source": [
    "### Operaciones de factores"
   ]
  },
  {
   "cell_type": "markdown",
   "metadata": {},
   "source": [
    "**1. Producto de factores**\n",
    "\n",
    "$$\\phi_1(A, B)$$\n",
    "\n",
    "|   A   |   B   | $\\phi_1$ |\n",
    "| ----- | ----- | -------- |\n",
    "| $a^0$ | $b^0$ | 5        |\n",
    "| $a^0$ | $b^1$ | 8        |\n",
    "| $a^1$ | $b^0$ | 1        |\n",
    "| $a^1$ | $b^1$ | 0        |\n",
    "| $a^2$ | $b^0$ | 3        |\n",
    "| $a^2$ | $b^1$ | 9        |\n",
    "\n",
    "$$\\phi_2(B, C)$$\n",
    "\n",
    "|   B   |   C   | $\\phi_2$ |\n",
    "| ----- | ----- | -------- |\n",
    "| $b^0$ | $c^0$ | 5        |\n",
    "| $b^0$ | $c^1$ | 7        |\n",
    "| $b^1$ | $c^0$ | 1        |\n",
    "| $b^1$ | $c^1$ | 2        |\n",
    "\n",
    "$$\\phi_3(A, B, C) = \\phi_1(A, B) \\times \\phi_2(B, C)$$\n",
    "\n",
    "|   A   |   B   |   C   | $\\phi_3$ |\n",
    "| ----- | ----- | ----- | ---------------- |\n",
    "| $a^0$ | $b^0$ | $c^0$ | $5\\times 5 = 25$ |\n",
    "| $a^0$ | $b^0$ | $c^1$ | $5\\times 7 = 35$ |\n",
    "| $a^0$ | $b^1$ | $c^0$ | $8\\times 1 = 8$  |\n",
    "| $a^0$ | $b^1$ | $c^1$ | $8\\times 2 = 16$ |\n",
    "| $a^1$ | $b^0$ | $c^0$ | $1\\times 5 = 5$  |\n",
    "| $a^1$ | $b^0$ | $c^1$ | $1\\times 7 = 7$  |\n",
    "| $a^1$ | $b^1$ | $c^0$ | $0\\times 1 = 0$  |\n",
    "| $a^1$ | $b^1$ | $c^1$ | $0\\times 2 = 0$  |\n",
    "| $a^2$ | $b^0$ | $c^0$ | $3\\times 5 = 15$ |\n",
    "| $a^2$ | $b^0$ | $c^1$ | $3\\times 7 = 21$ |\n",
    "| $a^2$ | $b^1$ | $c^0$ | $9\\times 1 = 9$  |\n",
    "| $a^2$ | $b^1$ | $c^1$ | $9\\times 2 = 18$ |"
   ]
  },
  {
   "cell_type": "code",
   "execution_count": 1,
   "metadata": {},
   "outputs": [],
   "source": [
    "# Importamos pgmpy.factors.discrete.DiscreteFactor\n",
    "from pgmpy.factors.discrete import DiscreteFactor"
   ]
  },
  {
   "cell_type": "code",
   "execution_count": 2,
   "metadata": {},
   "outputs": [],
   "source": [
    "# help DiscreteFactor\n",
    "DiscreteFactor?"
   ]
  },
  {
   "cell_type": "code",
   "execution_count": 5,
   "metadata": {},
   "outputs": [],
   "source": [
    "# Factores phi1, phi2\n",
    "phi1 = DiscreteFactor(\n",
    "    variables=[\"A\", \"B\"],\n",
    "    cardinality=[3, 2],\n",
    "    values=[5, 8, 1, 0, 3, 9]\n",
    ")\n",
    "phi2 = DiscreteFactor(\n",
    "    variables=[\"B\", \"C\"],\n",
    "    cardinality=[2, 2],\n",
    "    values=[5, 7, 1, 2]\n",
    ")"
   ]
  },
  {
   "cell_type": "code",
   "execution_count": 7,
   "metadata": {},
   "outputs": [
    {
     "name": "stdout",
     "output_type": "stream",
     "text": [
      "+------+------+------+--------------+\n",
      "| A    | B    | C    |   phi(A,B,C) |\n",
      "+======+======+======+==============+\n",
      "| A(0) | B(0) | C(0) |      25.0000 |\n",
      "+------+------+------+--------------+\n",
      "| A(0) | B(0) | C(1) |      35.0000 |\n",
      "+------+------+------+--------------+\n",
      "| A(0) | B(1) | C(0) |       8.0000 |\n",
      "+------+------+------+--------------+\n",
      "| A(0) | B(1) | C(1) |      16.0000 |\n",
      "+------+------+------+--------------+\n",
      "| A(1) | B(0) | C(0) |       5.0000 |\n",
      "+------+------+------+--------------+\n",
      "| A(1) | B(0) | C(1) |       7.0000 |\n",
      "+------+------+------+--------------+\n",
      "| A(1) | B(1) | C(0) |       0.0000 |\n",
      "+------+------+------+--------------+\n",
      "| A(1) | B(1) | C(1) |       0.0000 |\n",
      "+------+------+------+--------------+\n",
      "| A(2) | B(0) | C(0) |      15.0000 |\n",
      "+------+------+------+--------------+\n",
      "| A(2) | B(0) | C(1) |      21.0000 |\n",
      "+------+------+------+--------------+\n",
      "| A(2) | B(1) | C(0) |       9.0000 |\n",
      "+------+------+------+--------------+\n",
      "| A(2) | B(1) | C(1) |      18.0000 |\n",
      "+------+------+------+--------------+\n"
     ]
    }
   ],
   "source": [
    "# Producto de factores\n",
    "print(phi1 * phi2)"
   ]
  },
  {
   "cell_type": "markdown",
   "metadata": {},
   "source": [
    "### Actividad:\n",
    "$$\\phi_1(X, Y)$$\n",
    "\n",
    "|   X   |   Y   | $\\phi_1$ |\n",
    "| ----- | ----- | -------- |\n",
    "| $x^0$ | $y^0$ | 0.8      |\n",
    "| $x^0$ | $y^1$ | 0.5      |\n",
    "| $x^1$ | $y^0$ | 0.5      |\n",
    "| $x^1$ | $y^1$ | 0.6      |\n",
    "\n",
    "$$\\phi_2(Y, Z)$$\n",
    "\n",
    "|   Y   |   Z   | $\\phi_2$ |\n",
    "| ----- | ----- | -------- |\n",
    "| $y^0$ | $z^0$ | 0.2      |\n",
    "| $y^0$ | $z^1$ | 0.2      |\n",
    "| $y^1$ | $z^0$ | 0.9      |\n",
    "| $y^1$ | $z^1$ | 1.0      |\n",
    "\n",
    "Si $\\psi(X,Y,Z) = \\phi_1(X, Y) \\phi_2(Y,Z)$\n",
    "- $\\psi(x^0, y^0, z^0)=0.8 \\times 0.2 = 0.16$\n",
    "- $\\psi(x^0, y^1, z^1)=0.5 \\times 1 = 0.5$\n",
    "- $\\psi(x^1, y^1, z^1)=0.6 \\times 1 = 0.6$"
   ]
  },
  {
   "cell_type": "code",
   "execution_count": null,
   "metadata": {},
   "outputs": [],
   "source": []
  },
  {
   "cell_type": "code",
   "execution_count": null,
   "metadata": {},
   "outputs": [],
   "source": []
  },
  {
   "cell_type": "markdown",
   "metadata": {},
   "source": [
    "**2. Marginalización**\n",
    "\n",
    "$$\\phi_1(X, Y, Z)$$\n",
    "\n",
    "|   X   |   Y   |   Z   | $\\phi_1$ |\n",
    "| ----- | ----- | ----- | -------- |\n",
    "| $x^0$ | $y^0$ | $z^0$ | 10       |\n",
    "| $x^0$ | $y^0$ | $z^1$ | 5        |\n",
    "| $x^0$ | $y^1$ | $z^0$ | 15       |\n",
    "| $x^0$ | $y^1$ | $z^1$ | 16       |\n",
    "| $x^1$ | $y^0$ | $z^0$ | 14       |\n",
    "| $x^1$ | $y^0$ | $z^1$ | 30       |\n",
    "| $x^1$ | $y^1$ | $z^0$ | 2        |\n",
    "| $x^1$ | $y^1$ | $z^1$ | 8        |\n",
    "\n",
    "$\\psi(Y,Z) = \\sum_{X}\\phi_1(X, Y, Z)$\n",
    "\n",
    "|   Y   |   Z   | $\\phi_1$      |\n",
    "| ----- | ----- | ------------- |\n",
    "| $y^0$ | $z^0$ | 10 + 14 = 24  |\n",
    "| $y^0$ | $z^1$ | 5 + 30 = 35   |\n",
    "| $y^1$ | $z^0$ | 15 + 2 = 17   |\n",
    "| $y^1$ | $z^1$ | 16 + 8 = 24   |\n"
   ]
  },
  {
   "cell_type": "code",
   "execution_count": 8,
   "metadata": {},
   "outputs": [
    {
     "name": "stdout",
     "output_type": "stream",
     "text": [
      "+------+------+------+--------------+\n",
      "| X    | Y    | Z    |   phi(X,Y,Z) |\n",
      "+======+======+======+==============+\n",
      "| X(0) | Y(0) | Z(0) |      10.0000 |\n",
      "+------+------+------+--------------+\n",
      "| X(0) | Y(0) | Z(1) |       5.0000 |\n",
      "+------+------+------+--------------+\n",
      "| X(0) | Y(1) | Z(0) |      15.0000 |\n",
      "+------+------+------+--------------+\n",
      "| X(0) | Y(1) | Z(1) |      16.0000 |\n",
      "+------+------+------+--------------+\n",
      "| X(1) | Y(0) | Z(0) |      14.0000 |\n",
      "+------+------+------+--------------+\n",
      "| X(1) | Y(0) | Z(1) |      30.0000 |\n",
      "+------+------+------+--------------+\n",
      "| X(1) | Y(1) | Z(0) |       2.0000 |\n",
      "+------+------+------+--------------+\n",
      "| X(1) | Y(1) | Z(1) |       8.0000 |\n",
      "+------+------+------+--------------+\n"
     ]
    }
   ],
   "source": [
    "phi = DiscreteFactor(\n",
    "    variables=[\"X\", \"Y\", \"Z\"],\n",
    "    cardinality=[2, 2, 2],\n",
    "    values=[10, 5, 15, 16, 14, 30, 2, 8]\n",
    ")\n",
    "print(phi)"
   ]
  },
  {
   "cell_type": "code",
   "execution_count": 9,
   "metadata": {},
   "outputs": [
    {
     "name": "stdout",
     "output_type": "stream",
     "text": [
      "+------+------+------------+\n",
      "| Y    | Z    |   phi(Y,Z) |\n",
      "+======+======+============+\n",
      "| Y(0) | Z(0) |    24.0000 |\n",
      "+------+------+------------+\n",
      "| Y(0) | Z(1) |    35.0000 |\n",
      "+------+------+------------+\n",
      "| Y(1) | Z(0) |    17.0000 |\n",
      "+------+------+------------+\n",
      "| Y(1) | Z(1) |    24.0000 |\n",
      "+------+------+------------+\n"
     ]
    }
   ],
   "source": [
    "# Marginalización resp. X\n",
    "print(phi.marginalize(variables=[\"X\"], inplace=False))"
   ]
  },
  {
   "cell_type": "code",
   "execution_count": 10,
   "metadata": {},
   "outputs": [
    {
     "name": "stdout",
     "output_type": "stream",
     "text": [
      "+------+----------+\n",
      "| Z    |   phi(Z) |\n",
      "+======+==========+\n",
      "| Z(0) |  41.0000 |\n",
      "+------+----------+\n",
      "| Z(1) |  59.0000 |\n",
      "+------+----------+\n"
     ]
    }
   ],
   "source": [
    "# Marginalización resp. X, Y\n",
    "print(phi.marginalize(variables=[\"X\", \"Y\"], inplace=False))"
   ]
  },
  {
   "cell_type": "markdown",
   "metadata": {},
   "source": [
    "### Actividad:\n",
    "$$\\phi_1(X, Y)$$\n",
    "\n",
    "|   X   |   Y   | $\\phi_1$ |\n",
    "| ----- | ----- | -------- |\n",
    "| $x^0$ | $y^0$ | 0.8      |\n",
    "| $x^0$ | $y^1$ | 0.5      |\n",
    "| $x^1$ | $y^0$ | 0.5      |\n",
    "| $x^1$ | $y^1$ | 0.6      |\n",
    "\n",
    "Si $\\psi(Y) = \\sum_{X}\\phi_1(X, Y)$\n",
    "\n",
    "- $\\psi(y^0)=0.8 + 0.5 = 1.3$\n",
    "- $\\psi(y^1)=0.5 + 0.6 = 1.1$"
   ]
  },
  {
   "cell_type": "code",
   "execution_count": null,
   "metadata": {},
   "outputs": [],
   "source": []
  },
  {
   "cell_type": "code",
   "execution_count": null,
   "metadata": {},
   "outputs": [],
   "source": []
  },
  {
   "cell_type": "markdown",
   "metadata": {},
   "source": [
    "**3. Reducción**\n",
    "\n",
    "$$\\phi_1(X, Y, Z)$$\n",
    "\n",
    "|   X   |   Y   |   Z   | $\\phi_1$ |\n",
    "| ----- | ----- | ----- | -------- |\n",
    "| $x^0$ | $y^0$ | $z^0$ | 10       |\n",
    "| $x^0$ | $y^0$ | $z^1$ | 5        |\n",
    "| $x^0$ | $y^1$ | $z^0$ | 15       |\n",
    "| $x^0$ | $y^1$ | $z^1$ | 16       |\n",
    "| $x^1$ | $y^0$ | $z^0$ | 14       |\n",
    "| $x^1$ | $y^0$ | $z^1$ | 30       |\n",
    "| $x^1$ | $y^1$ | $z^0$ | 2        |\n",
    "| $x^1$ | $y^1$ | $z^1$ | 8        |\n",
    "\n",
    "$\\psi(X,Z) = \\phi_1(X, y^1, Z)$\n",
    "\n",
    "|   X   |   Y   |   Z   | $\\phi_1$ |\n",
    "| ----- | ----- | ----- | -------- |\n",
    "| $x^0$ | $y^1$ | $z^0$ | 15       |\n",
    "| $x^0$ | $y^1$ | $z^1$ | 16       |\n",
    "| $x^1$ | $y^1$ | $z^0$ | 2        |\n",
    "| $x^1$ | $y^1$ | $z^1$ | 8        |\n",
    "\n",
    "Como $Y=y^1$ es constante, el factor resultante no depende de Y:\n",
    "\n",
    "|   X   |   Z   | $\\phi_1$ |\n",
    "| ----- | ----- | -------- |\n",
    "| $x^0$ | $z^0$ | 15       |\n",
    "| $x^0$ | $z^1$ | 16       |\n",
    "| $x^1$ | $z^0$ | 2        |\n",
    "| $x^1$ | $z^1$ | 8        |"
   ]
  },
  {
   "cell_type": "code",
   "execution_count": 17,
   "metadata": {},
   "outputs": [
    {
     "name": "stdout",
     "output_type": "stream",
     "text": [
      "+------+------+------+--------------+\n",
      "| X    | Y    | Z    |   phi(X,Y,Z) |\n",
      "+======+======+======+==============+\n",
      "| X(0) | Y(0) | Z(0) |      10.0000 |\n",
      "+------+------+------+--------------+\n",
      "| X(0) | Y(0) | Z(1) |       5.0000 |\n",
      "+------+------+------+--------------+\n",
      "| X(0) | Y(1) | Z(0) |      15.0000 |\n",
      "+------+------+------+--------------+\n",
      "| X(0) | Y(1) | Z(1) |      16.0000 |\n",
      "+------+------+------+--------------+\n",
      "| X(1) | Y(0) | Z(0) |      14.0000 |\n",
      "+------+------+------+--------------+\n",
      "| X(1) | Y(0) | Z(1) |      30.0000 |\n",
      "+------+------+------+--------------+\n",
      "| X(1) | Y(1) | Z(0) |       2.0000 |\n",
      "+------+------+------+--------------+\n",
      "| X(1) | Y(1) | Z(1) |       8.0000 |\n",
      "+------+------+------+--------------+\n"
     ]
    }
   ],
   "source": [
    "phi = DiscreteFactor(\n",
    "    variables=[\"X\", \"Y\", \"Z\"],\n",
    "    cardinality=[2, 2, 2],\n",
    "    values=[10, 5, 15, 16, 14, 30, 2, 8]\n",
    ")\n",
    "print(phi)"
   ]
  },
  {
   "cell_type": "code",
   "execution_count": 18,
   "metadata": {},
   "outputs": [
    {
     "name": "stdout",
     "output_type": "stream",
     "text": [
      "+------+------+------------+\n",
      "| X    | Z    |   phi(X,Z) |\n",
      "+======+======+============+\n",
      "| X(0) | Z(0) |    15.0000 |\n",
      "+------+------+------------+\n",
      "| X(0) | Z(1) |    16.0000 |\n",
      "+------+------+------------+\n",
      "| X(1) | Z(0) |     2.0000 |\n",
      "+------+------+------------+\n",
      "| X(1) | Z(1) |     8.0000 |\n",
      "+------+------+------------+\n"
     ]
    }
   ],
   "source": [
    "print(phi.reduce(values=[(\"Y\", 1)], inplace=False))"
   ]
  },
  {
   "cell_type": "markdown",
   "metadata": {},
   "source": [
    "### Actividad:\n",
    "$$\\phi_1(X, Y)$$\n",
    "\n",
    "|   X   |   Y   | $\\phi_1$ |\n",
    "| ----- | ----- | -------- |\n",
    "| $x^0$ | $y^0$ | 0.8      |\n",
    "| $x^0$ | $y^1$ | 0.5      |\n",
    "| $x^1$ | $y^0$ | 0.5      |\n",
    "| $x^1$ | $y^1$ | 0.6      |\n",
    "\n",
    "Si $\\psi(X) = \\phi_1(X, y^0)$\n",
    "\n",
    "- $\\psi(x^0)=0.8$\n",
    "- $\\psi(x^1)=0.5$"
   ]
  },
  {
   "cell_type": "code",
   "execution_count": null,
   "metadata": {},
   "outputs": [],
   "source": []
  },
  {
   "cell_type": "code",
   "execution_count": null,
   "metadata": {},
   "outputs": [],
   "source": []
  },
  {
   "cell_type": "markdown",
   "metadata": {},
   "source": [
    "<script>\n",
    "  $(document).ready(function(){\n",
    "    $('div.prompt').hide();\n",
    "    $('div.back-to-top').hide();\n",
    "    $('nav#menubar').hide();\n",
    "    $('.breadcrumb').hide();\n",
    "    $('.hidden-print').hide();\n",
    "  });\n",
    "</script>\n",
    "\n",
    "<footer id=\"attribution\" style=\"float:right; color:#808080; background:#fff;\">\n",
    "Created with Jupyter by Esteban Jiménez Rodríguez.\n",
    "</footer>"
   ]
  }
 ],
 "metadata": {
  "kernelspec": {
   "display_name": "Python 3",
   "language": "python",
   "name": "python3"
  },
  "language_info": {
   "codemirror_mode": {
    "name": "ipython",
    "version": 3
   },
   "file_extension": ".py",
   "mimetype": "text/x-python",
   "name": "python",
   "nbconvert_exporter": "python",
   "pygments_lexer": "ipython3",
   "version": "3.7.6"
  }
 },
 "nbformat": 4,
 "nbformat_minor": 4
}
