{
 "cells": [
  {
   "cell_type": "markdown",
   "metadata": {},
   "source": [
    "# Tarea 2. Inferencia básica y máxima verosimilitud\n",
    "\n",
    "<img style=\"float: right; margin: 0px 0px 15px 15px;\" src=\"https://storage.needpix.com/rsynced_images/bayesian-2889576_1280.png\" width=\"200px\" height=\"180px\" />\n",
    "\n",
    "En esta segunda tarea, repasarás algunos ejercicios de inferencia en modelos probabilísticos básicos. Además, tendrás la oportunidad de mostrar como estimar los parámetros de una distribución normal. Finalmente explorarás cómo es el producto de dos densidades normales.\n",
    "\n",
    "Por favor, intenta ser lo más explícit@ posible, y en lo posible, apóyate de la escritura matemática con $\\LaTeX$.\n",
    "\n",
    "Recuerda además que ante cualquier duda, me puedes contactar al correo esjimenezro@iteso.mx.\n",
    "\n",
    "<p style=\"text-align:right;\"> Imagen recuperada de: https://storage.needpix.com/rsynced_images/bayesian-2889576_1280.png.</p>\n",
    "\n",
    "___"
   ]
  },
  {
   "cell_type": "markdown",
   "metadata": {},
   "source": [
    "## 1. \n",
    "\n",
    "Estudiar los ejemplos 1.3, 1.4, 1.8, 1.9, y 1.10 de la sección **1.2 Probabilistic Reasoning** del libro Bayesian Reasoning and Machine Learning by David Barber. Cap. 1."
   ]
  },
  {
   "cell_type": "markdown",
   "metadata": {},
   "source": []
  },
  {
   "cell_type": "markdown",
   "metadata": {},
   "source": []
  },
  {
   "cell_type": "markdown",
   "metadata": {},
   "source": []
  },
  {
   "cell_type": "markdown",
   "metadata": {},
   "source": [
    "## 2. \n",
    "\n",
    "(Ejercicio 1.3 Pattern Recognition and Machine Learning, by Christopher M. Bishop.) \n",
    "\n",
    "Supongamos que tenemos tres cajas: $r$ (roja), $a$ (azul), y $v$ (verde). Los contenidos de las cajas son:\n",
    "\n",
    "- $r$: 3 manzanas, 4 naranjas, y 3 limas.\n",
    "- $a$: 1 manzanas, 1 naranjas, y 0 limas.\n",
    "- $v$: 3 manzanas, 3 naranjas, y 4 limas\n",
    "\n",
    "Si la caja se elige aleatoriamente con probabilidades $p(r) = 0.2$, $p(b) = 0.2$, $p(g) = 0.6$, y una fruta se selecciona de la caja elegida, con igual probabilidad de seleccionar cualquier elemento de la caja, \n",
    "\n",
    "1. ¿Cuál es la probabilida de seleccionar una manzana?\n",
    "2. Si observamos que la fruta seleccionada es una naranja, ¿Cuál es la probabilidad de que provenga de la caja verde?"
   ]
  },
  {
   "cell_type": "markdown",
   "metadata": {},
   "source": [
    "1. La probabilidad de seleccionar una manzana es la probabilidad marginal dada por la variable aleatoria de la caja y la probabilidad de que sea una manzana. Por lo tanto:<br>\n",
    "\n",
    "$P(X = manzana) = \\frac{P(X=manzama, Y=y)}{P_X(x)} = \\frac{3}{10}0.2 + \\frac{1}{2}0.2 + \\frac{3}{10}0.6 = 0.34 $\n",
    "<br>\n",
    "\n",
    "| y\\x      | *manzanas* | naranjas | lima |\n",
    "| ----------- | ----------- | ----------- | ----------- |\n",
    "| roja      | $\\frac{3}{10}0.2$ | $\\frac{4}{10}0.2$ | $\\frac{3}{10}0.2$ |\n",
    "| azul   | $\\frac{1}{2}0.2$ | $\\frac{1}{2}0.2$ | $\\frac{0}{2}0.2$ |\n",
    "| verde   | $\\frac{3}{10}0.6$ | $\\frac{3}{10}0.6$  | $\\frac{4}{10}0.6$ |\n",
    "\n",
    "<br>\n",
    "2. La probabilidad de que sea una naranja dado que la caja es verde $\\frac{P(X=naranja, Y=verde)}{P_X(x)} = \\frac{3}{10}0.6 = 0.18 $"
   ]
  },
  {
   "cell_type": "code",
   "execution_count": 5,
   "metadata": {},
   "outputs": [
    {
     "data": {
      "text/plain": [
       "0.33999999999999997"
      ]
     },
     "execution_count": 5,
     "metadata": {},
     "output_type": "execute_result"
    }
   ],
   "source": [
    "3/10*0.2 + 1/2*0.2 + 3/10*0.6"
   ]
  },
  {
   "cell_type": "code",
   "execution_count": 6,
   "metadata": {},
   "outputs": [
    {
     "data": {
      "text/plain": [
       "0.36"
      ]
     },
     "execution_count": 6,
     "metadata": {},
     "output_type": "execute_result"
    }
   ],
   "source": [
    "4/10*0.2 + 1/2*0.2 + 3/10*0.6"
   ]
  },
  {
   "cell_type": "code",
   "execution_count": 7,
   "metadata": {},
   "outputs": [
    {
     "data": {
      "text/plain": [
       "0.3"
      ]
     },
     "execution_count": 7,
     "metadata": {},
     "output_type": "execute_result"
    }
   ],
   "source": [
    "3/10*0.2 + 0/2*0.2 + 4/10*0.6"
   ]
  },
  {
   "cell_type": "code",
   "execution_count": 8,
   "metadata": {},
   "outputs": [
    {
     "data": {
      "text/plain": [
       "0.18"
      ]
     },
     "execution_count": 8,
     "metadata": {},
     "output_type": "execute_result"
    }
   ],
   "source": [
    "3/10*0.6"
   ]
  },
  {
   "cell_type": "markdown",
   "metadata": {},
   "source": [
    "## 3.\n",
    "\n",
    "Consideramos un conjunto de datos \n",
    "\n",
    "$$\n",
    "\\mathcal{D} = \\{x_1, \\dots, x_N\\}\n",
    "$$\n",
    "\n",
    "independientes e idénticamente distribuidos, los cuales suponemos que provienen de una distribución normal $\\mathcal{N}(\\mu, \\sigma^2)$.\n",
    "\n",
    "Muestre que los estimadores de máxima verosimilitud para los parámetros $\\mu$ y $\\sigma^2$ son:\n",
    "\n",
    "$$\\hat{\\mu}_{MLE} = \\frac{1}{N} \\sum_{j=1}^{N}x_j \\qquad \\text{y} \\qquad \\hat{\\sigma}_{MLE}^2 = \\frac{1}{N}\\sum_{j=1}^{N}(x_j-\\hat{\\mu}_{MLE})^2.$$"
   ]
  },
  {
   "cell_type": "markdown",
   "metadata": {},
   "source": [
    "La función de verosimilitud esta dada por la densidad de probabilidad de la distribución normal: $$ f (x; \\mu, \\sigma)\\frac{1}{\\sigma\\sqrt{2\\pi}}e^{-\\frac{1}{2}\\frac{(x-\\mu)}{\\sigma}^2} $$\n",
    "\n",
    "Para variables iid los productos de las funciones de densidad univariables y asumiendo que los valores observados son fijos:\n",
    "\n",
    "$$\\mathcal{L} = \\prod_{j=1}^N f(x_j; \\mu, \\sigma) $$\n",
    "\n",
    "Quitando el producto,\n",
    "$$ \\mathcal{L} = \\frac{1}{\\sigma\\sqrt{2\\pi}}e^{-\\frac{1}{2\\sigma^2}\\sum_{j=1}^N (x_j - \\mu)^2} $$\n",
    "\n",
    "Ahora aplicando logaritmos naturales tenemos la log likelihood equivalente,\n",
    "\n",
    "$$ \\mathcal{l}(\\mu, \\sigma^2; D) = ln(L(\\mu, \\sigma^2; D)) $$\n",
    "$$ \\mathcal{l} = ln(\\frac{1}{\\sigma\\sqrt{2\\pi}}e^{-\\frac{1}{2\\sigma^2}\\sum_{j=1}^N (x_j - \\mu)^2}) $$\n",
    "$$ \\mathcal{l} = ln(\\frac{1}{\\sigma\\sqrt{2\\pi}})+ln(e^{-\\frac{1}{2\\sigma^2}\\sum_{j=1}^N (x_j - \\mu)^2}) $$\n",
    "$$ \\mathcal{l} = -\\frac{n}{2}ln(2\\pi\\sigma^2) -\\frac{1}{2\\sigma^2}\\sum_{j=1}^N(x_j-\\mu)^2  $$\n",
    "$$ \\mathcal{l} = -\\frac{n}{2}ln(2\\pi)-\\frac{n}{2}ln(\\sigma^2)-\\frac{1}{2\\sigma^2}\\sum_{j=1}^N(x_j-\\mu)^2 $$\n",
    "\n",
    "Debemos de resolver el problema de maximixación,\n",
    "$$ \\max\\mathcal{l}(\\mu, \\sigma^2;D) $$\n",
    "\n",
    "Las condiciones de optimalidad si es derivable es la primera derivada y luego igualamos a cero con respecto a $\\mu$ y con respecto a $\\sigma$,\n",
    "\n",
    "$$ \\frac{\\delta\\mathcal{l}}{\\delta\\mu} = \\frac{1}{\\sigma^2}\\sum_{j=1}^N (x_j-\\mu) = 0$$\n",
    "$$ \\frac{\\delta\\mathcal{l}}{\\delta\\mu} = \\frac{1}{\\sigma^2}(-n\\mu + \\sum_{j=1}^N x_j) = 0$$\n",
    "$$ \\frac{\\delta\\mathcal{l}}{\\delta\\mu} =-n\\mu + \\sum_{j=1}^N x_j = 0$$\n",
    "$$ \\hat{\\mu}_{MLE} = \\frac{1}{N} \\sum_{j=1}^{N}x_j$$\n",
    "\n",
    "$$ \\frac{\\delta\\mathcal{l}}{\\delta\\sigma} = -\\frac{n}{2\\sigma^2} - \\frac{1}{2}\\sum_{j=1}^N(x_j-\\mu)^2 - \\frac{1}{(\\sigma^2)^2} = 0$$\n",
    "$$ \\frac{\\delta\\mathcal{l}}{\\delta\\sigma} = -\\frac{n}{2\\sigma^2} + \\frac{1}{2}\\sum_{j=1}^N(x_j-\\mu)^2 + \\frac{1}{(\\sigma^2)^2}= 0$$\n",
    "$$ \\frac{\\delta\\mathcal{l}}{\\delta\\sigma} = -\\frac{1}{2\\sigma^2} (\\frac{1}{\\sigma^2}\\sum_{j=1}^N(x_j-\\mu)^2 -n) = 0$$\n",
    "$$  \\hat{\\sigma}_{MLE}^2 = \\frac{1}{N}\\sum_{j=1}^{N}(x_j-\\hat{\\mu}_{MLE})^2$$"
   ]
  },
  {
   "cell_type": "markdown",
   "metadata": {},
   "source": [
    "## 4.\n",
    "\n",
    "Sean $f(x) = \\mathcal{N}(x | \\mu_1, \\sigma_1^2) = \\frac{1}{\\sqrt{2 \\pi \\sigma_1^2}} \\exp\\left\\{-\\frac{(x - \\mu_1)^2}{2\\sigma_1^2}\\right\\}$, y $g(x) = \\mathcal{N}(x | \\mu_2, \\sigma_2^2) = \\frac{1}{\\sqrt{2 \\pi \\sigma_2^2}} \\exp\\left\\{-\\frac{(x - \\mu_2)^2}{2\\sigma_2^2}\\right\\}$ dos densidades de VA normales.\n",
    "\n",
    "Demostrar que $f(x)g(x) = \\mathcal{N}(x | \\mu_1, \\sigma_1^2)\\mathcal{N}(x | \\mu_2, \\sigma_2^2) \\propto \\mathcal{N}(x | \\mu_3, \\sigma_3^2)$ es proporcional una densidad de una VA normal, donde\n",
    "\n",
    "$$\n",
    "\\mu_3 = \\frac{\\mu_1 \\sigma_2^2 + \\mu_2 \\sigma_1^2}{\\sigma_1^2+ \\sigma_2^2}, \\qquad \\sigma_3^2 = \\frac{\\sigma_1^2\\sigma_2^2}{\\sigma_1^2+ \\sigma_2^2}\n",
    "$$"
   ]
  },
  {
   "cell_type": "markdown",
   "metadata": {},
   "source": [
    "Sea proporcional significa que lo importante es la exponencial, entonces\n",
    "$$ f(x)g(x) = \\mathcal{N}(x | \\mu_3, \\sigma_3^2) \\propto \\exp\\left\\{-\\frac{(x - \\mu_3)^2}{2\\sigma_3^2}\\right\\} $$\n",
    "\n",
    "$$ f(x)g(x) \\propto \\exp\\left\\{-\\frac{(x - \\mu_1)^2}{2\\sigma_1^2}\\right\\}\\exp\\left\\{-\\frac{(x - \\mu_2)^2}{2\\sigma_2^2}\\right\\} $$\n",
    "$$ f(x)g(x) \\propto \\exp\\left\\{-\\frac{(x - \\mu_1)^2}{2\\sigma_1^2} -\\frac{(x - \\mu_2)^2}{2\\sigma_2^2}\\right\\} $$\n",
    "\n",
    "aplicando logaritmo natural se puede escribir como\n",
    "$$ ln(\\exp\\left\\{-\\frac{(x - \\mu_1)^2}{2\\sigma_1^2} -\\frac{(x - \\mu_2)^2}{2\\sigma_2^2}\\right\\}) = \\frac{(x - \\mu_1)^2}{2\\sigma_1^2} + \\frac{(x - \\mu_1)^2}{2\\sigma_1^2} $$\n",
    "suma de fracciones con un comun denominador\n",
    "$$ = \\frac{\\sigma_2^2(x - \\mu_1)^2+\\sigma_1^2(x - \\mu_1)^2}{2\\sigma_1^2\\sigma_2^2} $$\n",
    "desarrolla el binomio cuadrado\n",
    "$$ = \\frac{\\sigma_2^2(x^2-2x\\mu_1 + \\mu_1^2) +\\sigma_1^2(x^2 -2x\\mu_1 + \\mu_1^2)}{2\\sigma_1^2\\sigma_2^2} $$\n",
    "después de factorizar\n",
    "$$ = \\frac{x^2 - 2\\frac{\\mu_1\\sigma_2^2+\\mu_2\\sigma_1^2}{\\sigma_1^2+\\sigma_2^2} x+ \\frac{\\mu_1\\sigma_2^2+\\mu_2\\sigma_1^2}{\\sigma_1^2+\\sigma_2^2}}{2\\frac{\\sigma_1^2\\sigma_2^2}{\\sigma_1^2+\\sigma_2^2}} $$\n",
    "\n",
    "aquí ya podemos observar $\\mu_3$ y $\\sigma_3^2$\n",
    "el siguiente truco consiste en sumar y restar el termino $\\mu_3$ en la ecuación para poder separar y tener un termino en función de $x$ y otro quedaría como constante,\n",
    "$$ = \\frac{x^2 - 2\\frac{\\mu_1\\sigma_2^2+\\mu_2\\sigma_1^2}{\\sigma_1^2+\\sigma_2^2} x + \\mu_3^2 + \\mu_3^2 + \\frac{\\mu_1\\sigma_2^2+\\mu_2\\sigma_1^2}{\\sigma_1^2+\\sigma_2^2}}{2\\frac{\\sigma_1^2\\sigma_2^2}{\\sigma_1^2+\\sigma_2^2}} $$\n",
    "simplificando como binomio cuadrado\n",
    "$$ = \\frac{(x-\\mu_3)^2}{2\\sigma_3^2} + constante $$\n",
    "aplicando el exponcial de vuelta\n",
    "$$ f(x)g(x) \\propto e^{\\frac{(x-\\mu_3)^2}{2\\sigma_3^2} + constante} $$\n",
    "la constante es una constante entonces,\n",
    "$$ f(x)g(x) \\propto e^{\\frac{(x-\\mu_3)^2}{2\\sigma_3^2}} $$"
   ]
  },
  {
   "cell_type": "markdown",
   "metadata": {},
   "source": []
  },
  {
   "cell_type": "markdown",
   "metadata": {},
   "source": []
  },
  {
   "cell_type": "markdown",
   "metadata": {},
   "source": [
    "<script>\n",
    "  $(document).ready(function(){\n",
    "    $('div.prompt').hide();\n",
    "    $('div.back-to-top').hide();\n",
    "    $('nav#menubar').hide();\n",
    "    $('.breadcrumb').hide();\n",
    "    $('.hidden-print').hide();\n",
    "  });\n",
    "</script>\n",
    "\n",
    "<footer id=\"attribution\" style=\"float:right; color:#808080; background:#fff;\">\n",
    "Created with Jupyter by Esteban Jiménez Rodríguez.\n",
    "</footer>"
   ]
  }
 ],
 "metadata": {
  "kernelspec": {
   "display_name": "Python 3 (ipykernel)",
   "language": "python",
   "name": "python3"
  },
  "language_info": {
   "codemirror_mode": {
    "name": "ipython",
    "version": 3
   },
   "file_extension": ".py",
   "mimetype": "text/x-python",
   "name": "python",
   "nbconvert_exporter": "python",
   "pygments_lexer": "ipython3",
   "version": "3.8.13"
  }
 },
 "nbformat": 4,
 "nbformat_minor": 4
}
