{
 "cells": [
  {
   "cell_type": "markdown",
   "metadata": {},
   "source": [
    "___\n",
    "<img style=\"float: right; margin: 0px 0px 15px 15px;\" src=\"https://p0.pikrepo.com/preview/226/186/artificial-intelligence-concept.jpg\" width=\"350px\" height=\"180px\" />\n",
    "\n",
    "\n",
    "# <font color= #8A0829> Introducción a los Modelos Gráficos Probabilísticos.</font>\n",
    "#### <font color= #2E9AFE> `Martes 19:00 - 22:00 hrs y Sábados 9:00-12:00`</font>\n",
    "- <Strong> Esteban Jiménez Rodríguez </Strong>\n",
    "- <Strong> Año </Strong>: 2022\n",
    "- <Strong> Copyright: </Strong> MIT (Exepto donde se indique lo contrario)\n",
    "\n",
    "- <Strong> Email: </Strong>  <font color=\"blue\"> `esjimenezro@iteso.mx` </font>\n",
    "___\n",
    "\n",
    "<p style=\"text-align:right;\"> Imagen recuperada de: https://p0.pikrepo.com/preview/226/186/artificial-intelligence-concept.jpg.</p>"
   ]
  },
  {
   "cell_type": "markdown",
   "metadata": {},
   "source": [
    "### `Presentación mia`\n",
    "___"
   ]
  },
  {
   "cell_type": "markdown",
   "metadata": {},
   "source": [
    "### `Presentación de ustedes`\n",
    "___"
   ]
  },
  {
   "cell_type": "markdown",
   "metadata": {},
   "source": [
    "### `Algunas reglas de juego`\n",
    "\n",
    "[Normas mínimas disciplinarias](https://www.dropbox.com/s/sbez0e0rv34na14/NORMAS_MINIMAS_DISCIPLINARIAS.pdf?dl=0)\n",
    "\n",
    "- **TODAS LAS ENTREGAS A TRAVÉS DE CANVAS, A MENOS QUE SE ESPECIFIQUE LO CONTRARIO**"
   ]
  },
  {
   "cell_type": "markdown",
   "metadata": {},
   "source": [
    "### `Horario de asesoría`\n",
    "\n",
    "- A convenir.\n",
    "___"
   ]
  },
  {
   "cell_type": "markdown",
   "metadata": {},
   "source": [
    "### `Descripción de la asignatura`\n",
    "\n",
    "- La mayoría de las tareas requieren de una **persona o un sistema automático que razone** (que llegue a conclusiones con base en la información disponible). \n",
    "\n",
    "- El enfoque de **modelos gráficos probabilísticos** constituye un esquema general para dar solución a esta problemática.\n",
    "\n",
    "- Es un enfoque basado en modelo, de manera que **puedan construirse modelos interpretables** y luego manipularlos por medio de algoritmos de razonamiento (inferencia). Dado que la incertidumbre es un aspecto inevitable de la mayoría de aplicaciones en la vida real, **los modelos que se consideran son probabilísticos**. \n",
    "\n",
    "- Los modelos gráficos probabilísticos son la base de varios métodos **estado del arte en varias aplicaciones** tales como diagnóstico médico, visión artificial, reconocimiento de voz, procesamiento de lenguaje natural y muchos otros más. Además , son una herramienta básica para la formulación de varios problemas de aprendizaje de máquinas."
   ]
  },
  {
   "cell_type": "markdown",
   "metadata": {},
   "source": [
    "### `Objetivos`\n",
    "\n",
    "- Modelar problemáticas/situaciones reales mediante grafos probabilísticos.\n",
    "- Responder preguntas de interés práctico acerca de las problemáticoas/situaciones modeladas usando algoritmos de inferencia.\n",
    "- Estimar los parámetros y/o estructura de los modelos usando técnicas de optimización."
   ]
  },
  {
   "cell_type": "markdown",
   "metadata": {},
   "source": [
    "### `Distribución del curso`\n",
    "\n",
    "Para alcanzar los anteriores objetivos se propone la siguiente distribución de las sesiones en el curso:"
   ]
  },
  {
   "cell_type": "markdown",
   "metadata": {},
   "source": [
    "#### Módulo 1. Introducción al modelado probabilístico.\n",
    "\n",
    "<img style=\"float: right; margin: 0px 0px 15px 15px;\" src=\"https://d2r55xnwy6nx47.cloudfront.net/uploads/2020/07/Dice_2880x1620_Lede.jpg\" width=\"300px\" height=\"100px\" />\n",
    "\n",
    "En este módulo introduciremos los contenidos del curso y usaremos un ejemplo sencillo para motivar el estudio de los modelos gráficos probabilísticos. Exploraremos modelos probabilísticos básicos, dejando de lado la parte gráfica por un momento, y en el camino recordaremos tópicos fundamentales de teoría de probabilidad, estimación de máxima verosimilitud, y además discutiremos acerca del enfoque Bayesiano. Todo esto lo usaremos en una aplicación básica que nos conducirá a la implementación de un modelo lineal que puede trabajar online.\n",
    "\n",
    "1. Introducción y motivación al curso.\n",
    "  - Presentación de la guía de aprendizaje\n",
    "  - Instalación de herramientas de trabajo.\n",
    "  - Ejemplo introductorio.\n",
    "  \n",
    "2. Repaso de probabilidad.\n",
    "  - Conceptos básicos de probabilidad.\n",
    "  - Tarea 1.\n",
    "  \n",
    "3. Estimadores de máxima verosimilitud.\n",
    "  - Quiz clase 2.\n",
    "  - Función de verosimilitud.\n",
    "  - Estimación de parámetros en modelos probabilísticos.\n",
    "  - Interpretación de mímimos cuadrados como estimación de máxima verosimilitud.\n",
    "  - Tarea 2.\n",
    "   \n",
    "4. Enfoque Bayesiano.\n",
    "  - Quiz clase 3.\n",
    "  - Enfoque frecuentista vs. Enfoque Bayesiano.\n",
    "  - La distribución previa como regularizador.\n",
    "  - Distribuciones previas conjugadas.\n",
    "  - Tarea 3.\n",
    "\n",
    "5. Regresión lineal Bayesiana.\n",
    "  - Quiz clase 4.\n",
    "  - Esquema de aprendizaje / predicción online.\n",
    "  \n",
    "6. Evaluación módulo 1.\n",
    "\n",
    "<p style=\"text-align:right;\"> Imagen recuperada de: https://d2r55xnwy6nx47.cloudfront.net/uploads/2020/07/Dice_2880x1620_Lede.jpg.</p>"
   ]
  },
  {
   "cell_type": "markdown",
   "metadata": {},
   "source": [
    "#### Módulo 2. Representación e inferencia en modelos gráficos probabilísticos.\n",
    "\n",
    "<img style=\"float: right; margin: 0px 0px 15px 15px;\" src=\"https://upload.wikimedia.org/wikipedia/commons/3/39/Graph_model.svg\" width=\"300px\" height=\"250px\" />\n",
    "\n",
    "En este módulo aprenderemos acerca de las dos representaciones de modelos gráficos básicas: las redes Bayesianas (grafos dirigidos) y las redes de Markov (grafos no dirigidos). Estudiaremos tanto las propiedades teóricas de dichas representaciones así como su uso en la práctica. Así mismo, aprenderemos cómo responder preguntas usando las estructuras gráficas. Adicionalmente, analizaremos una extensión importante de estas representaciones que nos permitirán representar procesos de toma de decisión.\n",
    "\n",
    "7. Redes Bayesianas.\n",
    "  - Definición y ejemplos básicos.\n",
    "  - Relación entre estructura e independencia.\n",
    "  - Tarea 4.\n",
    "  \n",
    "8. Redes de Markov\n",
    "  - Quiz clase 7.\n",
    "  - Definición y ejemplos básicos.\n",
    "  - Relación entre estructura e independencia.\n",
    "  \n",
    "9. Teoría de decisión.\n",
    "  - Quiz clase 8.\n",
    "  - Funciones de utilidad.\n",
    "  - Máxima utilidad esperada.\n",
    "  - Valor de la información.\n",
    "  - Tarea 5.\n",
    "  \n",
    "10. Inferencia exacta: Algoritmo de eliminación de variables.\n",
    "  - Quiz clase 9.\n",
    "  - Introducción: Tipos de inferencia.\n",
    "  - Descripción del algoritmo.\n",
    "  - Inferencia de probabilidad condicional.\n",
    "  - Inferencia MAP.\n",
    "  - Tarea 6.\n",
    "   \n",
    "11. Inferencia aproximada: Métodos de muestreo.\n",
    "  - Quiz clase 10.\n",
    "  - Muestreo en redes Bayesianas.\n",
    "  - Cadenas de Markov Montecarlo:\n",
    "      - ¿Qué son?.\n",
    "      - ¿Cómo se usan?.\n",
    "      - Algoritmo de muestreo de Gibbs.\n",
    "      - Algoritmo Metrópolis Hastings.\n",
    "\n",
    "12. Evaluación módulo 2.\n",
    "\n",
    "<p style=\"text-align:right;\"> Imagen recuperada de: https://upload.wikimedia.org/wikipedia/commons/3/39/Graph_model.svg.</p>"
   ]
  },
  {
   "cell_type": "markdown",
   "metadata": {},
   "source": [
    "#### Módulo 3. Aprendizaje en modelos gráficos.\n",
    "\n",
    "<img style=\"float: right; margin: 0px 0px 15px 15px;\" src=\"https://storage.needpix.com/rsynced_images/pixel-cells-3947912_1280.png\" width=\"400px\" height=\"250px\" />\n",
    "\n",
    "A partir de los aprendizajes en el primer y segundo módulo, en este módulo aprenderemos cómo un modelo gráfico probabilístico puede aprenderse a partir de un conjunto de datos. Dsicutiremos los problemas principales que aparecen en la estimación de parámetros tanto en redes Bayesianas como en redes de Markov, así como en el aprendizaje estructural para redes dirigidas.\n",
    "\n",
    "13. Estimación de parámetros en redes Bayesianas.\n",
    "  - Estimación de máxima verosimilitud.\n",
    "  - Estimación Bayesiana de parámetros.\n",
    "  \n",
    "14. Modelo de variables latentes: Algoritmo de maximización de la esperanza.\n",
    "  - Quiz clase 13.\n",
    "  - Variables latentes.\n",
    "  - Algoritmo de maximización de la esperanza.\n",
    "  - Modelo de mezclas Gaussianas.\n",
    "  - Tarea 8.\n",
    "  \n",
    "15. Aprendizaje estructural.\n",
    "  - Quiz clase 14.\n",
    "  - Funciones de costo para aprendizaje estructural:\n",
    "      - Verosimilitud.\n",
    "      - Bayesiana.\n",
    "  - Optimizando sobre estructuras:\n",
    "      - Aprendizaje de estructuras de árbol.\n",
    "      - Aprendizaje de estructuras genéricas: heurísicas.\n",
    "\n",
    "16. Proyecto final.\n",
    "\n",
    "<p style=\"text-align:right;\"> Imagen recuperada de: https://storage.needpix.com/rsynced_images/pixel-cells-3947912_1280.png.</p>"
   ]
  },
  {
   "cell_type": "markdown",
   "metadata": {},
   "source": [
    "### `Pre-requisitos`\n",
    "\n",
    "- Sintaxis básica de python y trabajo con librerías (curso: prope de programación).\n",
    "- Teoría básica de probabilidad (curso: análisis estadístico).\n",
    "- Planteamiento y solución de problemas básicos de optimización (curso: optimización)."
   ]
  },
  {
   "cell_type": "markdown",
   "metadata": {},
   "source": [
    "### `Evaluación`\n",
    "\n",
    "- **8 Tareas 32% (4% c/u)**\n",
    "- **9 Quices 18% (2% c/u)**\n",
    "- **2 Evaluaciones 30% (15% c/u)**\n",
    "- **1 Proyecto 20%**"
   ]
  },
  {
   "cell_type": "markdown",
   "metadata": {},
   "source": [
    "### `Bibliografía `\n",
    "\n",
    "- Daphne Koller and Nir Friedman (2009).  Probabilistic Graphical Models Principles and Techniques . MIT Press. \n",
    "- Pattern Recognition and Machine Learning, by Christopher M. Bishop.\n",
    "- Bayesian Reasoning and Machine Learning by David Barber."
   ]
  },
  {
   "cell_type": "markdown",
   "metadata": {},
   "source": [
    "<script>\n",
    "  $(document).ready(function(){\n",
    "    $('div.prompt').hide();\n",
    "    $('div.back-to-top').hide();\n",
    "    $('nav#menubar').hide();\n",
    "    $('.breadcrumb').hide();\n",
    "    $('.hidden-print').hide();\n",
    "  });\n",
    "</script>\n",
    "\n",
    "<footer id=\"attribution\" style=\"float:right; color:#808080; background:#fff;\">\n",
    "Created with Jupyter by Esteban Jiménez Rodríguez.\n",
    "</footer>"
   ]
  }
 ],
 "metadata": {
  "kernelspec": {
   "display_name": "Python 3",
   "language": "python",
   "name": "python3"
  },
  "language_info": {
   "codemirror_mode": {
    "name": "ipython",
    "version": 3
   },
   "file_extension": ".py",
   "mimetype": "text/x-python",
   "name": "python",
   "nbconvert_exporter": "python",
   "pygments_lexer": "ipython3",
   "version": "3.7.6"
  }
 },
 "nbformat": 4,
 "nbformat_minor": 4
}
